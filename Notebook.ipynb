{
 "cells": [
  {
   "cell_type": "markdown",
   "metadata": {},
   "source": [
    "# Does modulus of sum of a uniform distribution also produce a uniform distribution?"
   ]
  },
  {
   "cell_type": "markdown",
   "metadata": {},
   "source": [
    "I have been working on an [Ethereum lottery](https://github.com/strange-labs-uk/ethereum-lottery) Dapp with folks attending a [meetup](https://www.meetup.com/Hacking-on-Ethereums-Solidity/) hosted by Strange Labs (Gloucester Road, Bristol) and we faced a problem where we realised that Solidity does not have a built in random number generator and therefore picking a winner turned out to be more difficult that anyone imagined.\n",
    "\n",
    "In order to make the system truly trustless, one of the ideas involved each participant generating their own random number and submitting it to the contract when they buy their lottery tickets. However I was concerned that taking a sum of of these numbers would result in a normal distribution allowing the early and late participants to have a built in disadvantage.\n",
    "\n",
    "To solve this, taking a modulus of the sum seemed like a way around the problem however I wanted to make sure that this was really the case. Therefore, [this notebook](https://github.com/brtknr/UniformModulus) is an exploration of whether the list of modulus really does produce a uniform distribution over lots of simulated scenarios."
   ]
  },
  {
   "cell_type": "markdown",
   "metadata": {},
   "source": [
    "# Import relevant modules"
   ]
  },
  {
   "cell_type": "code",
   "execution_count": 1,
   "metadata": {},
   "outputs": [],
   "source": [
    "import numpy as np\n",
    "import matplotlib.pyplot as plt\n",
    "import scipy.stats as ss"
   ]
  },
  {
   "cell_type": "markdown",
   "metadata": {},
   "source": [
    "# Helper functions"
   ]
  },
  {
   "cell_type": "code",
   "execution_count": 2,
   "metadata": {},
   "outputs": [],
   "source": [
    "def test(num_of_vars_in_dist, random_num_max_val, num_of_random_nums, num_of_iterations):\n",
    "    list_of_sums = list()\n",
    "    list_of_indices = list()\n",
    "\n",
    "    for i in range(num_of_iterations):\n",
    "        list_of_randoms = np.random.randint(\n",
    "            random_num_max_val,\n",
    "            size=num_of_random_nums\n",
    "        )\n",
    "        \n",
    "        sum_of_randoms = list_of_randoms.sum()\n",
    "        list_of_sums.append(sum_of_randoms)\n",
    "        index = sum_of_randoms % num_of_vars_in_dist\n",
    "        list_of_indices.append(index)\n",
    "\n",
    "    return dict(\n",
    "        list_of_sums=list_of_sums,\n",
    "        list_of_indices=list_of_indices,\n",
    "    )\n",
    "\n",
    "def hist(result, key, bins=100):\n",
    "    plt.ion()\n",
    "    plt.figure()\n",
    "    plt.hist(result[key], bins=bins)\n",
    "    plt.xlabel(key)\n",
    "    plt.ylabel('density')"
   ]
  },
  {
   "cell_type": "markdown",
   "metadata": {},
   "source": [
    "# Run the test"
   ]
  },
  {
   "cell_type": "code",
   "execution_count": 3,
   "metadata": {},
   "outputs": [],
   "source": [
    "result = test(\n",
    "    num_of_vars_in_dist=100,\n",
    "    random_num_max_val=1000,\n",
    "    num_of_random_nums=100,\n",
    "    num_of_iterations=10**5\n",
    "    )"
   ]
  },
  {
   "cell_type": "markdown",
   "metadata": {},
   "source": [
    "# Inspect the distribution of `list_of_sums`"
   ]
  },
  {
   "cell_type": "code",
   "execution_count": 4,
   "metadata": {},
   "outputs": [
    {
     "data": {
      "image/png": "[encoded data removed]",
      "text/plain": [
       "<matplotlib.figure.Figure at 0x112657c18>"
      ]
     },
     "metadata": {},
     "output_type": "display_data"
    }
   ],
   "source": [
    "hist(result,'list_of_sums')"
   ]
  },
  {
   "cell_type": "code",
   "execution_count": 5,
   "metadata": {},
   "outputs": [
    {
     "data": {
      "text/plain": [
       "KstestResult(statistic=1.0, pvalue=0.0)"
      ]
     },
     "execution_count": 5,
     "metadata": {},
     "output_type": "execute_result"
    }
   ],
   "source": [
    "ss.kstest(result['list_of_sums'], 'norm', args=(), alternative='two-sided', mode='approx')"
   ]
  },
  {
   "cell_type": "markdown",
   "metadata": {},
   "source": [
    "It looks like the sum of random produce a two-sided distribution, the kind of behaviour we expect when we take a sum of all the numbers produced when we roll multiple dice where the mean of number of faces has the highest likelihood of manifesting."
   ]
  },
  {
   "cell_type": "markdown",
   "metadata": {},
   "source": [
    "# Now lets look at the values of `var_dist`"
   ]
  },
  {
   "cell_type": "code",
   "execution_count": 6,
   "metadata": {
    "scrolled": true
   },
   "outputs": [
    {
     "data": {
      "image/png": "[encoded data removed]",
      "text/plain": [
       "<matplotlib.figure.Figure at 0x112657cc0>"
      ]
     },
     "metadata": {},
     "output_type": "display_data"
    }
   ],
   "source": [
    "hist(result,'list_of_indices')"
   ]
  },
  {
   "cell_type": "code",
   "execution_count": 7,
   "metadata": {},
   "outputs": [
    {
     "data": {
      "text/plain": [
       "KstestResult(statistic=0.98985000000000001, pvalue=0.0)"
      ]
     },
     "execution_count": 7,
     "metadata": {},
     "output_type": "execute_result"
    }
   ],
   "source": [
    "ss.kstest(result['list_of_indices'], 'uniform', args=(), alternative='two-sided', mode='approx')"
   ]
  },
  {
   "cell_type": "markdown",
   "metadata": {},
   "source": [
    "It looks like the list of indices are more or less uniformly distributed and the statistical test confirms our visual observation. Therefore, we can conclude that numbers generated by taking a modulus of sum of randomly generated numbers is a reliable pseudo-random number generator."
   ]
  },
  {
   "cell_type": "code",
   "execution_count": 8,
   "metadata": {},
   "outputs": [
    {
     "name": "stdout",
     "output_type": "stream",
     "text": [
      "[NbConvertApp] Converting notebook Notebook.ipynb to markdown\n",
      "[NbConvertApp] Support files will be in Notebook_files/\n",
      "[NbConvertApp] Making directory Notebook_files\n",
      "[NbConvertApp] Making directory Notebook_files\n",
      "[NbConvertApp] Writing 3738 bytes to Notebook.md\n"
     ]
    }
   ],
   "source": [
    "!jupyter nbconvert --to markdown Notebook.ipynb"
   ]
  }
 ],
 "metadata": {
  "kernelspec": {
   "display_name": "Python 3",
   "language": "python",
   "name": "python3"
  },
  "language_info": {
   "codemirror_mode": {
    "name": "ipython",
    "version": 3
   },
   "file_extension": ".py",
   "mimetype": "text/x-python",
   "name": "python",
   "nbconvert_exporter": "python",
   "pygments_lexer": "ipython3",
   "version": "3.6.4"
  }
 },
 "nbformat": 4,
 "nbformat_minor": 2
}
